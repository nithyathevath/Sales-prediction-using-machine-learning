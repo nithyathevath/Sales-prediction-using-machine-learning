{
  "nbformat": 4,
  "nbformat_minor": 0,
  "metadata": {
    "colab": {
      "provenance": [],
      "gpuType": "T4"
    },
    "kernelspec": {
      "name": "python3",
      "display_name": "Python 3"
    },
    "language_info": {
      "name": "python"
    },
    "accelerator": "GPU"
  },
  "cells": [
    {
      "cell_type": "markdown",
      "source": [
        "1.Import Libraries"
      ],
      "metadata": {
        "id": "7cpUtPN-PlIN"
      }
    },
    {
      "cell_type": "code",
      "source": [
        "import pandas as pd\n",
        "import numpy as np\n",
        "import seaborn as sns\n",
        "import matplotlib.pyplot as plt"
      ],
      "metadata": {
        "id": "YlNDnRM7RfOs"
      },
      "execution_count": 4,
      "outputs": []
    },
    {
      "cell_type": "code",
      "execution_count": null,
      "metadata": {
        "colab": {
          "base_uri": "https://localhost:8080/"
        },
        "id": "bN2ZU1r9MfFS",
        "outputId": "aeb15d05-0e83-4a07-db00-c85a99d6ab17"
      },
      "outputs": [
        {
          "output_type": "stream",
          "name": "stdout",
          "text": [
            "Requirement already satisfied: scikeras in /usr/local/lib/python3.11/dist-packages (0.13.0)\n",
            "Requirement already satisfied: keras>=3.2.0 in /usr/local/lib/python3.11/dist-packages (from scikeras) (3.8.0)\n",
            "Requirement already satisfied: scikit-learn>=1.4.2 in /usr/local/lib/python3.11/dist-packages (from scikeras) (1.7.1)\n",
            "Requirement already satisfied: absl-py in /usr/local/lib/python3.11/dist-packages (from keras>=3.2.0->scikeras) (1.4.0)\n",
            "Requirement already satisfied: numpy in /usr/local/lib/python3.11/dist-packages (from keras>=3.2.0->scikeras) (2.0.2)\n",
            "Requirement already satisfied: rich in /usr/local/lib/python3.11/dist-packages (from keras>=3.2.0->scikeras) (13.9.4)\n",
            "Requirement already satisfied: namex in /usr/local/lib/python3.11/dist-packages (from keras>=3.2.0->scikeras) (0.1.0)\n",
            "Requirement already satisfied: h5py in /usr/local/lib/python3.11/dist-packages (from keras>=3.2.0->scikeras) (3.14.0)\n",
            "Requirement already satisfied: optree in /usr/local/lib/python3.11/dist-packages (from keras>=3.2.0->scikeras) (0.16.0)\n",
            "Requirement already satisfied: ml-dtypes in /usr/local/lib/python3.11/dist-packages (from keras>=3.2.0->scikeras) (0.5.1)\n",
            "Requirement already satisfied: packaging in /usr/local/lib/python3.11/dist-packages (from keras>=3.2.0->scikeras) (25.0)\n",
            "Requirement already satisfied: scipy>=1.8.0 in /usr/local/lib/python3.11/dist-packages (from scikit-learn>=1.4.2->scikeras) (1.16.0)\n",
            "Requirement already satisfied: joblib>=1.2.0 in /usr/local/lib/python3.11/dist-packages (from scikit-learn>=1.4.2->scikeras) (1.5.1)\n",
            "Requirement already satisfied: threadpoolctl>=3.1.0 in /usr/local/lib/python3.11/dist-packages (from scikit-learn>=1.4.2->scikeras) (3.6.0)\n",
            "Requirement already satisfied: typing-extensions>=4.6.0 in /usr/local/lib/python3.11/dist-packages (from optree->keras>=3.2.0->scikeras) (4.14.1)\n",
            "Requirement already satisfied: markdown-it-py>=2.2.0 in /usr/local/lib/python3.11/dist-packages (from rich->keras>=3.2.0->scikeras) (3.0.0)\n",
            "Requirement already satisfied: pygments<3.0.0,>=2.13.0 in /usr/local/lib/python3.11/dist-packages (from rich->keras>=3.2.0->scikeras) (2.19.2)\n",
            "Requirement already satisfied: mdurl~=0.1 in /usr/local/lib/python3.11/dist-packages (from markdown-it-py>=2.2.0->rich->keras>=3.2.0->scikeras) (0.1.2)\n",
            "Requirement already satisfied: scikit-learn in /usr/local/lib/python3.11/dist-packages (1.7.1)\n",
            "Requirement already satisfied: scikeras in /usr/local/lib/python3.11/dist-packages (0.13.0)\n",
            "Requirement already satisfied: tensorflow in /usr/local/lib/python3.11/dist-packages (2.19.0)\n",
            "Requirement already satisfied: numpy>=1.22.0 in /usr/local/lib/python3.11/dist-packages (from scikit-learn) (2.0.2)\n",
            "Requirement already satisfied: scipy>=1.8.0 in /usr/local/lib/python3.11/dist-packages (from scikit-learn) (1.16.0)\n",
            "Requirement already satisfied: joblib>=1.2.0 in /usr/local/lib/python3.11/dist-packages (from scikit-learn) (1.5.1)\n",
            "Requirement already satisfied: threadpoolctl>=3.1.0 in /usr/local/lib/python3.11/dist-packages (from scikit-learn) (3.6.0)\n",
            "Requirement already satisfied: keras>=3.2.0 in /usr/local/lib/python3.11/dist-packages (from scikeras) (3.8.0)\n",
            "Requirement already satisfied: absl-py>=1.0.0 in /usr/local/lib/python3.11/dist-packages (from tensorflow) (1.4.0)\n",
            "Requirement already satisfied: astunparse>=1.6.0 in /usr/local/lib/python3.11/dist-packages (from tensorflow) (1.6.3)\n",
            "Requirement already satisfied: flatbuffers>=24.3.25 in /usr/local/lib/python3.11/dist-packages (from tensorflow) (25.2.10)\n",
            "Requirement already satisfied: gast!=0.5.0,!=0.5.1,!=0.5.2,>=0.2.1 in /usr/local/lib/python3.11/dist-packages (from tensorflow) (0.6.0)\n",
            "Requirement already satisfied: google-pasta>=0.1.1 in /usr/local/lib/python3.11/dist-packages (from tensorflow) (0.2.0)\n",
            "Requirement already satisfied: libclang>=13.0.0 in /usr/local/lib/python3.11/dist-packages (from tensorflow) (18.1.1)\n",
            "Requirement already satisfied: opt-einsum>=2.3.2 in /usr/local/lib/python3.11/dist-packages (from tensorflow) (3.4.0)\n",
            "Requirement already satisfied: packaging in /usr/local/lib/python3.11/dist-packages (from tensorflow) (25.0)\n",
            "Requirement already satisfied: protobuf!=4.21.0,!=4.21.1,!=4.21.2,!=4.21.3,!=4.21.4,!=4.21.5,<6.0.0dev,>=3.20.3 in /usr/local/lib/python3.11/dist-packages (from tensorflow) (5.29.5)\n",
            "Requirement already satisfied: requests<3,>=2.21.0 in /usr/local/lib/python3.11/dist-packages (from tensorflow) (2.32.3)\n",
            "Requirement already satisfied: setuptools in /usr/local/lib/python3.11/dist-packages (from tensorflow) (75.2.0)\n",
            "Requirement already satisfied: six>=1.12.0 in /usr/local/lib/python3.11/dist-packages (from tensorflow) (1.17.0)\n",
            "Requirement already satisfied: termcolor>=1.1.0 in /usr/local/lib/python3.11/dist-packages (from tensorflow) (3.1.0)\n",
            "Requirement already satisfied: typing-extensions>=3.6.6 in /usr/local/lib/python3.11/dist-packages (from tensorflow) (4.14.1)\n",
            "Requirement already satisfied: wrapt>=1.11.0 in /usr/local/lib/python3.11/dist-packages (from tensorflow) (1.17.2)\n",
            "Requirement already satisfied: grpcio<2.0,>=1.24.3 in /usr/local/lib/python3.11/dist-packages (from tensorflow) (1.73.1)\n",
            "Requirement already satisfied: tensorboard~=2.19.0 in /usr/local/lib/python3.11/dist-packages (from tensorflow) (2.19.0)\n",
            "Requirement already satisfied: h5py>=3.11.0 in /usr/local/lib/python3.11/dist-packages (from tensorflow) (3.14.0)\n",
            "Requirement already satisfied: ml-dtypes<1.0.0,>=0.5.1 in /usr/local/lib/python3.11/dist-packages (from tensorflow) (0.5.1)\n",
            "Requirement already satisfied: tensorflow-io-gcs-filesystem>=0.23.1 in /usr/local/lib/python3.11/dist-packages (from tensorflow) (0.37.1)\n",
            "Requirement already satisfied: wheel<1.0,>=0.23.0 in /usr/local/lib/python3.11/dist-packages (from astunparse>=1.6.0->tensorflow) (0.45.1)\n",
            "Requirement already satisfied: rich in /usr/local/lib/python3.11/dist-packages (from keras>=3.2.0->scikeras) (13.9.4)\n",
            "Requirement already satisfied: namex in /usr/local/lib/python3.11/dist-packages (from keras>=3.2.0->scikeras) (0.1.0)\n",
            "Requirement already satisfied: optree in /usr/local/lib/python3.11/dist-packages (from keras>=3.2.0->scikeras) (0.16.0)\n",
            "Requirement already satisfied: charset-normalizer<4,>=2 in /usr/local/lib/python3.11/dist-packages (from requests<3,>=2.21.0->tensorflow) (3.4.2)\n",
            "Requirement already satisfied: idna<4,>=2.5 in /usr/local/lib/python3.11/dist-packages (from requests<3,>=2.21.0->tensorflow) (3.10)\n",
            "Requirement already satisfied: urllib3<3,>=1.21.1 in /usr/local/lib/python3.11/dist-packages (from requests<3,>=2.21.0->tensorflow) (2.5.0)\n",
            "Requirement already satisfied: certifi>=2017.4.17 in /usr/local/lib/python3.11/dist-packages (from requests<3,>=2.21.0->tensorflow) (2025.7.14)\n",
            "Requirement already satisfied: markdown>=2.6.8 in /usr/local/lib/python3.11/dist-packages (from tensorboard~=2.19.0->tensorflow) (3.8.2)\n",
            "Requirement already satisfied: tensorboard-data-server<0.8.0,>=0.7.0 in /usr/local/lib/python3.11/dist-packages (from tensorboard~=2.19.0->tensorflow) (0.7.2)\n",
            "Requirement already satisfied: werkzeug>=1.0.1 in /usr/local/lib/python3.11/dist-packages (from tensorboard~=2.19.0->tensorflow) (3.1.3)\n",
            "Requirement already satisfied: MarkupSafe>=2.1.1 in /usr/local/lib/python3.11/dist-packages (from werkzeug>=1.0.1->tensorboard~=2.19.0->tensorflow) (3.0.2)\n",
            "Requirement already satisfied: markdown-it-py>=2.2.0 in /usr/local/lib/python3.11/dist-packages (from rich->keras>=3.2.0->scikeras) (3.0.0)\n",
            "Requirement already satisfied: pygments<3.0.0,>=2.13.0 in /usr/local/lib/python3.11/dist-packages (from rich->keras>=3.2.0->scikeras) (2.19.2)\n",
            "Requirement already satisfied: mdurl~=0.1 in /usr/local/lib/python3.11/dist-packages (from markdown-it-py>=2.2.0->rich->keras>=3.2.0->scikeras) (0.1.2)\n"
          ]
        }
      ],
      "source": [
        "\n",
        "\n",
        "from sklearn.model_selection import train_test_split, GridSearchCV\n",
        "from sklearn.preprocessing import LabelEncoder\n",
        "from sklearn.ensemble import RandomForestRegressor\n",
        "from sklearn.metrics import r2_score, mean_absolute_error, mean_squared_error\n",
        "\n",
        "import xgboost as xgb\n",
        "\n",
        "from tensorflow.keras.models import Sequential\n",
        "from tensorflow.keras.layers import Dense\n",
        "from tensorflow.keras.callbacks import EarlyStopping\n",
        "from tensorflow.keras.optimizers import Adam\n",
        "!pip install scikeras\n",
        "!pip install --upgrade scikit-learn scikeras tensorflow\n",
        "from scikeras.wrappers import KerasRegressor\n"
      ]
    },
    {
      "cell_type": "markdown",
      "source": [
        "2. Load and Clean Data"
      ],
      "metadata": {
        "id": "VjGU_N8wPtGU"
      }
    },
    {
      "cell_type": "code",
      "source": [
        "df = pd.read_csv('/content/retail_store_inventory.csv')\n",
        "\n",
        "\n"
      ],
      "metadata": {
        "id": "toj6F-zePQ5p"
      },
      "execution_count": 5,
      "outputs": []
    },
    {
      "cell_type": "code",
      "source": [
        "df"
      ],
      "metadata": {
        "colab": {
          "base_uri": "https://localhost:8080/",
          "height": 634
        },
        "id": "htroKVP6RmiF",
        "outputId": "3718993e-bc6b-4b24-9cf9-8df762f99701"
      },
      "execution_count": 7,
      "outputs": [
        {
          "output_type": "execute_result",
          "data": {
            "text/plain": [
              "            Date Store ID Product ID     Category Region  Inventory Level  \\\n",
              "0     2022-01-01     S001      P0001    Groceries  North              231   \n",
              "1     2022-01-01     S001      P0002         Toys  South              204   \n",
              "2     2022-01-01     S001      P0003         Toys   West              102   \n",
              "3     2022-01-01     S001      P0004         Toys  North              469   \n",
              "4     2022-01-01     S001      P0005  Electronics   East              166   \n",
              "...          ...      ...        ...          ...    ...              ...   \n",
              "73095 2024-01-01     S005      P0016    Furniture   East               96   \n",
              "73096 2024-01-01     S005      P0017         Toys  North              313   \n",
              "73097 2024-01-01     S005      P0018     Clothing   West              278   \n",
              "73098 2024-01-01     S005      P0019         Toys   East              374   \n",
              "73099 2024-01-01     S005      P0020    Groceries   East              117   \n",
              "\n",
              "       Units Sold  Units Ordered  Demand Forecast  Price  Discount  \\\n",
              "0             127             55           135.47  33.50        20   \n",
              "1             150             66           144.04  63.01        20   \n",
              "2              65             51            74.02  27.99        10   \n",
              "3              61            164            62.18  32.72        10   \n",
              "4              14            135             9.26  73.64         0   \n",
              "...           ...            ...              ...    ...       ...   \n",
              "73095           8            127            18.46  73.73        20   \n",
              "73096          51            101            48.43  82.57        10   \n",
              "73097          36            151            39.65  11.11        10   \n",
              "73098         264             21           270.52  53.14        20   \n",
              "73099           6            165             2.33  78.39        20   \n",
              "\n",
              "      Weather Condition  Holiday/Promotion  Competitor Pricing Seasonality  \n",
              "0                 Rainy                  0               29.69      Autumn  \n",
              "1                 Sunny                  0               66.16      Autumn  \n",
              "2                 Sunny                  1               31.32      Summer  \n",
              "3                Cloudy                  1               34.74      Autumn  \n",
              "4                 Sunny                  0               68.95      Summer  \n",
              "...                 ...                ...                 ...         ...  \n",
              "73095             Snowy                  0               72.45      Winter  \n",
              "73096            Cloudy                  0               83.78      Autumn  \n",
              "73097             Rainy                  0               10.91      Winter  \n",
              "73098             Rainy                  0               55.80      Spring  \n",
              "73099             Rainy                  1               79.52      Spring  \n",
              "\n",
              "[73100 rows x 15 columns]"
            ],
            "text/html": [
              "\n",
              "  <div id=\"df-603298ee-5ba0-4e8b-a700-1e620a869312\" class=\"colab-df-container\">\n",
              "    <div>\n",
              "<style scoped>\n",
              "    .dataframe tbody tr th:only-of-type {\n",
              "        vertical-align: middle;\n",
              "    }\n",
              "\n",
              "    .dataframe tbody tr th {\n",
              "        vertical-align: top;\n",
              "    }\n",
              "\n",
              "    .dataframe thead th {\n",
              "        text-align: right;\n",
              "    }\n",
              "</style>\n",
              "<table border=\"1\" class=\"dataframe\">\n",
              "  <thead>\n",
              "    <tr style=\"text-align: right;\">\n",
              "      <th></th>\n",
              "      <th>Date</th>\n",
              "      <th>Store ID</th>\n",
              "      <th>Product ID</th>\n",
              "      <th>Category</th>\n",
              "      <th>Region</th>\n",
              "      <th>Inventory Level</th>\n",
              "      <th>Units Sold</th>\n",
              "      <th>Units Ordered</th>\n",
              "      <th>Demand Forecast</th>\n",
              "      <th>Price</th>\n",
              "      <th>Discount</th>\n",
              "      <th>Weather Condition</th>\n",
              "      <th>Holiday/Promotion</th>\n",
              "      <th>Competitor Pricing</th>\n",
              "      <th>Seasonality</th>\n",
              "    </tr>\n",
              "  </thead>\n",
              "  <tbody>\n",
              "    <tr>\n",
              "      <th>0</th>\n",
              "      <td>2022-01-01</td>\n",
              "      <td>S001</td>\n",
              "      <td>P0001</td>\n",
              "      <td>Groceries</td>\n",
              "      <td>North</td>\n",
              "      <td>231</td>\n",
              "      <td>127</td>\n",
              "      <td>55</td>\n",
              "      <td>135.47</td>\n",
              "      <td>33.50</td>\n",
              "      <td>20</td>\n",
              "      <td>Rainy</td>\n",
              "      <td>0</td>\n",
              "      <td>29.69</td>\n",
              "      <td>Autumn</td>\n",
              "    </tr>\n",
              "    <tr>\n",
              "      <th>1</th>\n",
              "      <td>2022-01-01</td>\n",
              "      <td>S001</td>\n",
              "      <td>P0002</td>\n",
              "      <td>Toys</td>\n",
              "      <td>South</td>\n",
              "      <td>204</td>\n",
              "      <td>150</td>\n",
              "      <td>66</td>\n",
              "      <td>144.04</td>\n",
              "      <td>63.01</td>\n",
              "      <td>20</td>\n",
              "      <td>Sunny</td>\n",
              "      <td>0</td>\n",
              "      <td>66.16</td>\n",
              "      <td>Autumn</td>\n",
              "    </tr>\n",
              "    <tr>\n",
              "      <th>2</th>\n",
              "      <td>2022-01-01</td>\n",
              "      <td>S001</td>\n",
              "      <td>P0003</td>\n",
              "      <td>Toys</td>\n",
              "      <td>West</td>\n",
              "      <td>102</td>\n",
              "      <td>65</td>\n",
              "      <td>51</td>\n",
              "      <td>74.02</td>\n",
              "      <td>27.99</td>\n",
              "      <td>10</td>\n",
              "      <td>Sunny</td>\n",
              "      <td>1</td>\n",
              "      <td>31.32</td>\n",
              "      <td>Summer</td>\n",
              "    </tr>\n",
              "    <tr>\n",
              "      <th>3</th>\n",
              "      <td>2022-01-01</td>\n",
              "      <td>S001</td>\n",
              "      <td>P0004</td>\n",
              "      <td>Toys</td>\n",
              "      <td>North</td>\n",
              "      <td>469</td>\n",
              "      <td>61</td>\n",
              "      <td>164</td>\n",
              "      <td>62.18</td>\n",
              "      <td>32.72</td>\n",
              "      <td>10</td>\n",
              "      <td>Cloudy</td>\n",
              "      <td>1</td>\n",
              "      <td>34.74</td>\n",
              "      <td>Autumn</td>\n",
              "    </tr>\n",
              "    <tr>\n",
              "      <th>4</th>\n",
              "      <td>2022-01-01</td>\n",
              "      <td>S001</td>\n",
              "      <td>P0005</td>\n",
              "      <td>Electronics</td>\n",
              "      <td>East</td>\n",
              "      <td>166</td>\n",
              "      <td>14</td>\n",
              "      <td>135</td>\n",
              "      <td>9.26</td>\n",
              "      <td>73.64</td>\n",
              "      <td>0</td>\n",
              "      <td>Sunny</td>\n",
              "      <td>0</td>\n",
              "      <td>68.95</td>\n",
              "      <td>Summer</td>\n",
              "    </tr>\n",
              "    <tr>\n",
              "      <th>...</th>\n",
              "      <td>...</td>\n",
              "      <td>...</td>\n",
              "      <td>...</td>\n",
              "      <td>...</td>\n",
              "      <td>...</td>\n",
              "      <td>...</td>\n",
              "      <td>...</td>\n",
              "      <td>...</td>\n",
              "      <td>...</td>\n",
              "      <td>...</td>\n",
              "      <td>...</td>\n",
              "      <td>...</td>\n",
              "      <td>...</td>\n",
              "      <td>...</td>\n",
              "      <td>...</td>\n",
              "    </tr>\n",
              "    <tr>\n",
              "      <th>73095</th>\n",
              "      <td>2024-01-01</td>\n",
              "      <td>S005</td>\n",
              "      <td>P0016</td>\n",
              "      <td>Furniture</td>\n",
              "      <td>East</td>\n",
              "      <td>96</td>\n",
              "      <td>8</td>\n",
              "      <td>127</td>\n",
              "      <td>18.46</td>\n",
              "      <td>73.73</td>\n",
              "      <td>20</td>\n",
              "      <td>Snowy</td>\n",
              "      <td>0</td>\n",
              "      <td>72.45</td>\n",
              "      <td>Winter</td>\n",
              "    </tr>\n",
              "    <tr>\n",
              "      <th>73096</th>\n",
              "      <td>2024-01-01</td>\n",
              "      <td>S005</td>\n",
              "      <td>P0017</td>\n",
              "      <td>Toys</td>\n",
              "      <td>North</td>\n",
              "      <td>313</td>\n",
              "      <td>51</td>\n",
              "      <td>101</td>\n",
              "      <td>48.43</td>\n",
              "      <td>82.57</td>\n",
              "      <td>10</td>\n",
              "      <td>Cloudy</td>\n",
              "      <td>0</td>\n",
              "      <td>83.78</td>\n",
              "      <td>Autumn</td>\n",
              "    </tr>\n",
              "    <tr>\n",
              "      <th>73097</th>\n",
              "      <td>2024-01-01</td>\n",
              "      <td>S005</td>\n",
              "      <td>P0018</td>\n",
              "      <td>Clothing</td>\n",
              "      <td>West</td>\n",
              "      <td>278</td>\n",
              "      <td>36</td>\n",
              "      <td>151</td>\n",
              "      <td>39.65</td>\n",
              "      <td>11.11</td>\n",
              "      <td>10</td>\n",
              "      <td>Rainy</td>\n",
              "      <td>0</td>\n",
              "      <td>10.91</td>\n",
              "      <td>Winter</td>\n",
              "    </tr>\n",
              "    <tr>\n",
              "      <th>73098</th>\n",
              "      <td>2024-01-01</td>\n",
              "      <td>S005</td>\n",
              "      <td>P0019</td>\n",
              "      <td>Toys</td>\n",
              "      <td>East</td>\n",
              "      <td>374</td>\n",
              "      <td>264</td>\n",
              "      <td>21</td>\n",
              "      <td>270.52</td>\n",
              "      <td>53.14</td>\n",
              "      <td>20</td>\n",
              "      <td>Rainy</td>\n",
              "      <td>0</td>\n",
              "      <td>55.80</td>\n",
              "      <td>Spring</td>\n",
              "    </tr>\n",
              "    <tr>\n",
              "      <th>73099</th>\n",
              "      <td>2024-01-01</td>\n",
              "      <td>S005</td>\n",
              "      <td>P0020</td>\n",
              "      <td>Groceries</td>\n",
              "      <td>East</td>\n",
              "      <td>117</td>\n",
              "      <td>6</td>\n",
              "      <td>165</td>\n",
              "      <td>2.33</td>\n",
              "      <td>78.39</td>\n",
              "      <td>20</td>\n",
              "      <td>Rainy</td>\n",
              "      <td>1</td>\n",
              "      <td>79.52</td>\n",
              "      <td>Spring</td>\n",
              "    </tr>\n",
              "  </tbody>\n",
              "</table>\n",
              "<p>73100 rows × 15 columns</p>\n",
              "</div>\n",
              "    <div class=\"colab-df-buttons\">\n",
              "\n",
              "  <div class=\"colab-df-container\">\n",
              "    <button class=\"colab-df-convert\" onclick=\"convertToInteractive('df-603298ee-5ba0-4e8b-a700-1e620a869312')\"\n",
              "            title=\"Convert this dataframe to an interactive table.\"\n",
              "            style=\"display:none;\">\n",
              "\n",
              "  <svg xmlns=\"http://www.w3.org/2000/svg\" height=\"24px\" viewBox=\"0 -960 960 960\">\n",
              "    <path d=\"M120-120v-720h720v720H120Zm60-500h600v-160H180v160Zm220 220h160v-160H400v160Zm0 220h160v-160H400v160ZM180-400h160v-160H180v160Zm440 0h160v-160H620v160ZM180-180h160v-160H180v160Zm440 0h160v-160H620v160Z\"/>\n",
              "  </svg>\n",
              "    </button>\n",
              "\n",
              "  <style>\n",
              "    .colab-df-container {\n",
              "      display:flex;\n",
              "      gap: 12px;\n",
              "    }\n",
              "\n",
              "    .colab-df-convert {\n",
              "      background-color: #E8F0FE;\n",
              "      border: none;\n",
              "      border-radius: 50%;\n",
              "      cursor: pointer;\n",
              "      display: none;\n",
              "      fill: #1967D2;\n",
              "      height: 32px;\n",
              "      padding: 0 0 0 0;\n",
              "      width: 32px;\n",
              "    }\n",
              "\n",
              "    .colab-df-convert:hover {\n",
              "      background-color: #E2EBFA;\n",
              "      box-shadow: 0px 1px 2px rgba(60, 64, 67, 0.3), 0px 1px 3px 1px rgba(60, 64, 67, 0.15);\n",
              "      fill: #174EA6;\n",
              "    }\n",
              "\n",
              "    .colab-df-buttons div {\n",
              "      margin-bottom: 4px;\n",
              "    }\n",
              "\n",
              "    [theme=dark] .colab-df-convert {\n",
              "      background-color: #3B4455;\n",
              "      fill: #D2E3FC;\n",
              "    }\n",
              "\n",
              "    [theme=dark] .colab-df-convert:hover {\n",
              "      background-color: #434B5C;\n",
              "      box-shadow: 0px 1px 3px 1px rgba(0, 0, 0, 0.15);\n",
              "      filter: drop-shadow(0px 1px 2px rgba(0, 0, 0, 0.3));\n",
              "      fill: #FFFFFF;\n",
              "    }\n",
              "  </style>\n",
              "\n",
              "    <script>\n",
              "      const buttonEl =\n",
              "        document.querySelector('#df-603298ee-5ba0-4e8b-a700-1e620a869312 button.colab-df-convert');\n",
              "      buttonEl.style.display =\n",
              "        google.colab.kernel.accessAllowed ? 'block' : 'none';\n",
              "\n",
              "      async function convertToInteractive(key) {\n",
              "        const element = document.querySelector('#df-603298ee-5ba0-4e8b-a700-1e620a869312');\n",
              "        const dataTable =\n",
              "          await google.colab.kernel.invokeFunction('convertToInteractive',\n",
              "                                                    [key], {});\n",
              "        if (!dataTable) return;\n",
              "\n",
              "        const docLinkHtml = 'Like what you see? Visit the ' +\n",
              "          '<a target=\"_blank\" href=https://colab.research.google.com/notebooks/data_table.ipynb>data table notebook</a>'\n",
              "          + ' to learn more about interactive tables.';\n",
              "        element.innerHTML = '';\n",
              "        dataTable['output_type'] = 'display_data';\n",
              "        await google.colab.output.renderOutput(dataTable, element);\n",
              "        const docLink = document.createElement('div');\n",
              "        docLink.innerHTML = docLinkHtml;\n",
              "        element.appendChild(docLink);\n",
              "      }\n",
              "    </script>\n",
              "  </div>\n",
              "\n",
              "\n",
              "    <div id=\"df-77065a2e-ae4b-4b4e-88d9-338adb7b6413\">\n",
              "      <button class=\"colab-df-quickchart\" onclick=\"quickchart('df-77065a2e-ae4b-4b4e-88d9-338adb7b6413')\"\n",
              "                title=\"Suggest charts\"\n",
              "                style=\"display:none;\">\n",
              "\n",
              "<svg xmlns=\"http://www.w3.org/2000/svg\" height=\"24px\"viewBox=\"0 0 24 24\"\n",
              "     width=\"24px\">\n",
              "    <g>\n",
              "        <path d=\"M19 3H5c-1.1 0-2 .9-2 2v14c0 1.1.9 2 2 2h14c1.1 0 2-.9 2-2V5c0-1.1-.9-2-2-2zM9 17H7v-7h2v7zm4 0h-2V7h2v10zm4 0h-2v-4h2v4z\"/>\n",
              "    </g>\n",
              "</svg>\n",
              "      </button>\n",
              "\n",
              "<style>\n",
              "  .colab-df-quickchart {\n",
              "      --bg-color: #E8F0FE;\n",
              "      --fill-color: #1967D2;\n",
              "      --hover-bg-color: #E2EBFA;\n",
              "      --hover-fill-color: #174EA6;\n",
              "      --disabled-fill-color: #AAA;\n",
              "      --disabled-bg-color: #DDD;\n",
              "  }\n",
              "\n",
              "  [theme=dark] .colab-df-quickchart {\n",
              "      --bg-color: #3B4455;\n",
              "      --fill-color: #D2E3FC;\n",
              "      --hover-bg-color: #434B5C;\n",
              "      --hover-fill-color: #FFFFFF;\n",
              "      --disabled-bg-color: #3B4455;\n",
              "      --disabled-fill-color: #666;\n",
              "  }\n",
              "\n",
              "  .colab-df-quickchart {\n",
              "    background-color: var(--bg-color);\n",
              "    border: none;\n",
              "    border-radius: 50%;\n",
              "    cursor: pointer;\n",
              "    display: none;\n",
              "    fill: var(--fill-color);\n",
              "    height: 32px;\n",
              "    padding: 0;\n",
              "    width: 32px;\n",
              "  }\n",
              "\n",
              "  .colab-df-quickchart:hover {\n",
              "    background-color: var(--hover-bg-color);\n",
              "    box-shadow: 0 1px 2px rgba(60, 64, 67, 0.3), 0 1px 3px 1px rgba(60, 64, 67, 0.15);\n",
              "    fill: var(--button-hover-fill-color);\n",
              "  }\n",
              "\n",
              "  .colab-df-quickchart-complete:disabled,\n",
              "  .colab-df-quickchart-complete:disabled:hover {\n",
              "    background-color: var(--disabled-bg-color);\n",
              "    fill: var(--disabled-fill-color);\n",
              "    box-shadow: none;\n",
              "  }\n",
              "\n",
              "  .colab-df-spinner {\n",
              "    border: 2px solid var(--fill-color);\n",
              "    border-color: transparent;\n",
              "    border-bottom-color: var(--fill-color);\n",
              "    animation:\n",
              "      spin 1s steps(1) infinite;\n",
              "  }\n",
              "\n",
              "  @keyframes spin {\n",
              "    0% {\n",
              "      border-color: transparent;\n",
              "      border-bottom-color: var(--fill-color);\n",
              "      border-left-color: var(--fill-color);\n",
              "    }\n",
              "    20% {\n",
              "      border-color: transparent;\n",
              "      border-left-color: var(--fill-color);\n",
              "      border-top-color: var(--fill-color);\n",
              "    }\n",
              "    30% {\n",
              "      border-color: transparent;\n",
              "      border-left-color: var(--fill-color);\n",
              "      border-top-color: var(--fill-color);\n",
              "      border-right-color: var(--fill-color);\n",
              "    }\n",
              "    40% {\n",
              "      border-color: transparent;\n",
              "      border-right-color: var(--fill-color);\n",
              "      border-top-color: var(--fill-color);\n",
              "    }\n",
              "    60% {\n",
              "      border-color: transparent;\n",
              "      border-right-color: var(--fill-color);\n",
              "    }\n",
              "    80% {\n",
              "      border-color: transparent;\n",
              "      border-right-color: var(--fill-color);\n",
              "      border-bottom-color: var(--fill-color);\n",
              "    }\n",
              "    90% {\n",
              "      border-color: transparent;\n",
              "      border-bottom-color: var(--fill-color);\n",
              "    }\n",
              "  }\n",
              "</style>\n",
              "\n",
              "      <script>\n",
              "        async function quickchart(key) {\n",
              "          const quickchartButtonEl =\n",
              "            document.querySelector('#' + key + ' button');\n",
              "          quickchartButtonEl.disabled = true;  // To prevent multiple clicks.\n",
              "          quickchartButtonEl.classList.add('colab-df-spinner');\n",
              "          try {\n",
              "            const charts = await google.colab.kernel.invokeFunction(\n",
              "                'suggestCharts', [key], {});\n",
              "          } catch (error) {\n",
              "            console.error('Error during call to suggestCharts:', error);\n",
              "          }\n",
              "          quickchartButtonEl.classList.remove('colab-df-spinner');\n",
              "          quickchartButtonEl.classList.add('colab-df-quickchart-complete');\n",
              "        }\n",
              "        (() => {\n",
              "          let quickchartButtonEl =\n",
              "            document.querySelector('#df-77065a2e-ae4b-4b4e-88d9-338adb7b6413 button');\n",
              "          quickchartButtonEl.style.display =\n",
              "            google.colab.kernel.accessAllowed ? 'block' : 'none';\n",
              "        })();\n",
              "      </script>\n",
              "    </div>\n",
              "\n",
              "  <div id=\"id_2dc5e1fb-79db-47de-b505-588042c791f0\">\n",
              "    <style>\n",
              "      .colab-df-generate {\n",
              "        background-color: #E8F0FE;\n",
              "        border: none;\n",
              "        border-radius: 50%;\n",
              "        cursor: pointer;\n",
              "        display: none;\n",
              "        fill: #1967D2;\n",
              "        height: 32px;\n",
              "        padding: 0 0 0 0;\n",
              "        width: 32px;\n",
              "      }\n",
              "\n",
              "      .colab-df-generate:hover {\n",
              "        background-color: #E2EBFA;\n",
              "        box-shadow: 0px 1px 2px rgba(60, 64, 67, 0.3), 0px 1px 3px 1px rgba(60, 64, 67, 0.15);\n",
              "        fill: #174EA6;\n",
              "      }\n",
              "\n",
              "      [theme=dark] .colab-df-generate {\n",
              "        background-color: #3B4455;\n",
              "        fill: #D2E3FC;\n",
              "      }\n",
              "\n",
              "      [theme=dark] .colab-df-generate:hover {\n",
              "        background-color: #434B5C;\n",
              "        box-shadow: 0px 1px 3px 1px rgba(0, 0, 0, 0.15);\n",
              "        filter: drop-shadow(0px 1px 2px rgba(0, 0, 0, 0.3));\n",
              "        fill: #FFFFFF;\n",
              "      }\n",
              "    </style>\n",
              "    <button class=\"colab-df-generate\" onclick=\"generateWithVariable('df')\"\n",
              "            title=\"Generate code using this dataframe.\"\n",
              "            style=\"display:none;\">\n",
              "\n",
              "  <svg xmlns=\"http://www.w3.org/2000/svg\" height=\"24px\"viewBox=\"0 0 24 24\"\n",
              "       width=\"24px\">\n",
              "    <path d=\"M7,19H8.4L18.45,9,17,7.55,7,17.6ZM5,21V16.75L18.45,3.32a2,2,0,0,1,2.83,0l1.4,1.43a1.91,1.91,0,0,1,.58,1.4,1.91,1.91,0,0,1-.58,1.4L9.25,21ZM18.45,9,17,7.55Zm-12,3A5.31,5.31,0,0,0,4.9,8.1,5.31,5.31,0,0,0,1,6.5,5.31,5.31,0,0,0,4.9,4.9,5.31,5.31,0,0,0,6.5,1,5.31,5.31,0,0,0,8.1,4.9,5.31,5.31,0,0,0,12,6.5,5.46,5.46,0,0,0,6.5,12Z\"/>\n",
              "  </svg>\n",
              "    </button>\n",
              "    <script>\n",
              "      (() => {\n",
              "      const buttonEl =\n",
              "        document.querySelector('#id_2dc5e1fb-79db-47de-b505-588042c791f0 button.colab-df-generate');\n",
              "      buttonEl.style.display =\n",
              "        google.colab.kernel.accessAllowed ? 'block' : 'none';\n",
              "\n",
              "      buttonEl.onclick = () => {\n",
              "        google.colab.notebook.generateWithVariable('df');\n",
              "      }\n",
              "      })();\n",
              "    </script>\n",
              "  </div>\n",
              "\n",
              "    </div>\n",
              "  </div>\n"
            ],
            "application/vnd.google.colaboratory.intrinsic+json": {
              "type": "dataframe",
              "variable_name": "df",
              "summary": "{\n  \"name\": \"df\",\n  \"rows\": 73100,\n  \"fields\": [\n    {\n      \"column\": \"Date\",\n      \"properties\": {\n        \"dtype\": \"date\",\n        \"min\": \"2022-01-01 00:00:00\",\n        \"max\": \"2024-01-01 00:00:00\",\n        \"num_unique_values\": 731,\n        \"samples\": [\n          \"2023-12-05 00:00:00\",\n          \"2022-02-03 00:00:00\",\n          \"2022-10-28 00:00:00\"\n        ],\n        \"semantic_type\": \"\",\n        \"description\": \"\"\n      }\n    },\n    {\n      \"column\": \"Store ID\",\n      \"properties\": {\n        \"dtype\": \"category\",\n        \"num_unique_values\": 5,\n        \"samples\": [\n          \"S002\",\n          \"S005\",\n          \"S003\"\n        ],\n        \"semantic_type\": \"\",\n        \"description\": \"\"\n      }\n    },\n    {\n      \"column\": \"Product ID\",\n      \"properties\": {\n        \"dtype\": \"category\",\n        \"num_unique_values\": 20,\n        \"samples\": [\n          \"P0001\",\n          \"P0018\",\n          \"P0016\"\n        ],\n        \"semantic_type\": \"\",\n        \"description\": \"\"\n      }\n    },\n    {\n      \"column\": \"Category\",\n      \"properties\": {\n        \"dtype\": \"category\",\n        \"num_unique_values\": 5,\n        \"samples\": [\n          \"Toys\",\n          \"Clothing\",\n          \"Electronics\"\n        ],\n        \"semantic_type\": \"\",\n        \"description\": \"\"\n      }\n    },\n    {\n      \"column\": \"Region\",\n      \"properties\": {\n        \"dtype\": \"category\",\n        \"num_unique_values\": 4,\n        \"samples\": [\n          \"South\",\n          \"East\",\n          \"North\"\n        ],\n        \"semantic_type\": \"\",\n        \"description\": \"\"\n      }\n    },\n    {\n      \"column\": \"Inventory Level\",\n      \"properties\": {\n        \"dtype\": \"number\",\n        \"std\": 129,\n        \"min\": 50,\n        \"max\": 500,\n        \"num_unique_values\": 451,\n        \"samples\": [\n          98,\n          375,\n          212\n        ],\n        \"semantic_type\": \"\",\n        \"description\": \"\"\n      }\n    },\n    {\n      \"column\": \"Units Sold\",\n      \"properties\": {\n        \"dtype\": \"number\",\n        \"std\": 108,\n        \"min\": 0,\n        \"max\": 499,\n        \"num_unique_values\": 498,\n        \"samples\": [\n          486,\n          176,\n          92\n        ],\n        \"semantic_type\": \"\",\n        \"description\": \"\"\n      }\n    },\n    {\n      \"column\": \"Units Ordered\",\n      \"properties\": {\n        \"dtype\": \"number\",\n        \"std\": 52,\n        \"min\": 20,\n        \"max\": 200,\n        \"num_unique_values\": 181,\n        \"samples\": [\n          144,\n          124,\n          87\n        ],\n        \"semantic_type\": \"\",\n        \"description\": \"\"\n      }\n    },\n    {\n      \"column\": \"Demand Forecast\",\n      \"properties\": {\n        \"dtype\": \"number\",\n        \"std\": 109.25407647039115,\n        \"min\": -9.99,\n        \"max\": 518.55,\n        \"num_unique_values\": 31608,\n        \"samples\": [\n          276.33,\n          31.84,\n          141.35\n        ],\n        \"semantic_type\": \"\",\n        \"description\": \"\"\n      }\n    },\n    {\n      \"column\": \"Price\",\n      \"properties\": {\n        \"dtype\": \"number\",\n        \"std\": 26.021944625625636,\n        \"min\": 10.0,\n        \"max\": 100.0,\n        \"num_unique_values\": 8999,\n        \"samples\": [\n          61.69,\n          54.33,\n          33.89\n        ],\n        \"semantic_type\": \"\",\n        \"description\": \"\"\n      }\n    },\n    {\n      \"column\": \"Discount\",\n      \"properties\": {\n        \"dtype\": \"number\",\n        \"std\": 7,\n        \"min\": 0,\n        \"max\": 20,\n        \"num_unique_values\": 5,\n        \"samples\": [\n          10,\n          15,\n          0\n        ],\n        \"semantic_type\": \"\",\n        \"description\": \"\"\n      }\n    },\n    {\n      \"column\": \"Weather Condition\",\n      \"properties\": {\n        \"dtype\": \"category\",\n        \"num_unique_values\": 4,\n        \"samples\": [\n          \"Sunny\",\n          \"Snowy\",\n          \"Rainy\"\n        ],\n        \"semantic_type\": \"\",\n        \"description\": \"\"\n      }\n    },\n    {\n      \"column\": \"Holiday/Promotion\",\n      \"properties\": {\n        \"dtype\": \"number\",\n        \"std\": 0,\n        \"min\": 0,\n        \"max\": 1,\n        \"num_unique_values\": 2,\n        \"samples\": [\n          1,\n          0\n        ],\n        \"semantic_type\": \"\",\n        \"description\": \"\"\n      }\n    },\n    {\n      \"column\": \"Competitor Pricing\",\n      \"properties\": {\n        \"dtype\": \"number\",\n        \"std\": 26.19140786909631,\n        \"min\": 5.03,\n        \"max\": 104.94,\n        \"num_unique_values\": 9751,\n        \"samples\": [\n          96.16,\n          22.17\n        ],\n        \"semantic_type\": \"\",\n        \"description\": \"\"\n      }\n    },\n    {\n      \"column\": \"Seasonality\",\n      \"properties\": {\n        \"dtype\": \"category\",\n        \"num_unique_values\": 4,\n        \"samples\": [\n          \"Summer\",\n          \"Spring\"\n        ],\n        \"semantic_type\": \"\",\n        \"description\": \"\"\n      }\n    }\n  ]\n}"
            }
          },
          "metadata": {},
          "execution_count": 7
        }
      ]
    },
    {
      "cell_type": "code",
      "source": [
        "df.shape"
      ],
      "metadata": {
        "colab": {
          "base_uri": "https://localhost:8080/"
        },
        "id": "ZBFt3OqnRMON",
        "outputId": "0340c170-2fc3-4d44-ec71-9da6fa12d253"
      },
      "execution_count": 6,
      "outputs": [
        {
          "output_type": "execute_result",
          "data": {
            "text/plain": [
              "(73100, 15)"
            ]
          },
          "metadata": {},
          "execution_count": 6
        }
      ]
    },
    {
      "cell_type": "code",
      "source": [
        "df.info()"
      ],
      "metadata": {
        "colab": {
          "base_uri": "https://localhost:8080/"
        },
        "id": "-0-LkctvRuX4",
        "outputId": "fdcfc3c7-d29d-48c8-d3d5-500bff855ed7"
      },
      "execution_count": 8,
      "outputs": [
        {
          "output_type": "stream",
          "name": "stdout",
          "text": [
            "<class 'pandas.core.frame.DataFrame'>\n",
            "RangeIndex: 73100 entries, 0 to 73099\n",
            "Data columns (total 15 columns):\n",
            " #   Column              Non-Null Count  Dtype         \n",
            "---  ------              --------------  -----         \n",
            " 0   Date                73100 non-null  datetime64[ns]\n",
            " 1   Store ID            73100 non-null  object        \n",
            " 2   Product ID          73100 non-null  object        \n",
            " 3   Category            73100 non-null  object        \n",
            " 4   Region              73100 non-null  object        \n",
            " 5   Inventory Level     73100 non-null  int64         \n",
            " 6   Units Sold          73100 non-null  int64         \n",
            " 7   Units Ordered       73100 non-null  int64         \n",
            " 8   Demand Forecast     73100 non-null  float64       \n",
            " 9   Price               73100 non-null  float64       \n",
            " 10  Discount            73100 non-null  int64         \n",
            " 11  Weather Condition   73100 non-null  object        \n",
            " 12  Holiday/Promotion   73100 non-null  int64         \n",
            " 13  Competitor Pricing  73100 non-null  float64       \n",
            " 14  Seasonality         73100 non-null  object        \n",
            "dtypes: datetime64[ns](1), float64(3), int64(5), object(6)\n",
            "memory usage: 8.4+ MB\n"
          ]
        }
      ]
    },
    {
      "cell_type": "code",
      "source": [
        "df.describe()"
      ],
      "metadata": {
        "colab": {
          "base_uri": "https://localhost:8080/",
          "height": 335
        },
        "id": "lt-PuugFRyPF",
        "outputId": "ba27a064-2e14-43b4-d601-6d6168f64fbf"
      },
      "execution_count": 9,
      "outputs": [
        {
          "output_type": "execute_result",
          "data": {
            "text/plain": [
              "                                Date  Inventory Level    Units Sold  \\\n",
              "count                          73100     73100.000000  73100.000000   \n",
              "mean   2022-12-31 23:59:59.999999744       274.469877    136.464870   \n",
              "min              2022-01-01 00:00:00        50.000000      0.000000   \n",
              "25%              2022-07-02 00:00:00       162.000000     49.000000   \n",
              "50%              2023-01-01 00:00:00       273.000000    107.000000   \n",
              "75%              2023-07-03 00:00:00       387.000000    203.000000   \n",
              "max              2024-01-01 00:00:00       500.000000    499.000000   \n",
              "std                              NaN       129.949514    108.919406   \n",
              "\n",
              "       Units Ordered  Demand Forecast         Price      Discount  \\\n",
              "count   73100.000000     73100.000000  73100.000000  73100.000000   \n",
              "mean      110.004473       141.494720     55.135108     10.009508   \n",
              "min        20.000000        -9.990000     10.000000      0.000000   \n",
              "25%        65.000000        53.670000     32.650000      5.000000   \n",
              "50%       110.000000       113.015000     55.050000     10.000000   \n",
              "75%       155.000000       208.052500     77.860000     15.000000   \n",
              "max       200.000000       518.550000    100.000000     20.000000   \n",
              "std        52.277448       109.254076     26.021945      7.083746   \n",
              "\n",
              "       Holiday/Promotion  Competitor Pricing  \n",
              "count       73100.000000        73100.000000  \n",
              "mean            0.497305           55.146077  \n",
              "min             0.000000            5.030000  \n",
              "25%             0.000000           32.680000  \n",
              "50%             0.000000           55.010000  \n",
              "75%             1.000000           77.820000  \n",
              "max             1.000000          104.940000  \n",
              "std             0.499996           26.191408  "
            ],
            "text/html": [
              "\n",
              "  <div id=\"df-f55d5144-9e82-4a9f-b4d1-da49e5058892\" class=\"colab-df-container\">\n",
              "    <div>\n",
              "<style scoped>\n",
              "    .dataframe tbody tr th:only-of-type {\n",
              "        vertical-align: middle;\n",
              "    }\n",
              "\n",
              "    .dataframe tbody tr th {\n",
              "        vertical-align: top;\n",
              "    }\n",
              "\n",
              "    .dataframe thead th {\n",
              "        text-align: right;\n",
              "    }\n",
              "</style>\n",
              "<table border=\"1\" class=\"dataframe\">\n",
              "  <thead>\n",
              "    <tr style=\"text-align: right;\">\n",
              "      <th></th>\n",
              "      <th>Date</th>\n",
              "      <th>Inventory Level</th>\n",
              "      <th>Units Sold</th>\n",
              "      <th>Units Ordered</th>\n",
              "      <th>Demand Forecast</th>\n",
              "      <th>Price</th>\n",
              "      <th>Discount</th>\n",
              "      <th>Holiday/Promotion</th>\n",
              "      <th>Competitor Pricing</th>\n",
              "    </tr>\n",
              "  </thead>\n",
              "  <tbody>\n",
              "    <tr>\n",
              "      <th>count</th>\n",
              "      <td>73100</td>\n",
              "      <td>73100.000000</td>\n",
              "      <td>73100.000000</td>\n",
              "      <td>73100.000000</td>\n",
              "      <td>73100.000000</td>\n",
              "      <td>73100.000000</td>\n",
              "      <td>73100.000000</td>\n",
              "      <td>73100.000000</td>\n",
              "      <td>73100.000000</td>\n",
              "    </tr>\n",
              "    <tr>\n",
              "      <th>mean</th>\n",
              "      <td>2022-12-31 23:59:59.999999744</td>\n",
              "      <td>274.469877</td>\n",
              "      <td>136.464870</td>\n",
              "      <td>110.004473</td>\n",
              "      <td>141.494720</td>\n",
              "      <td>55.135108</td>\n",
              "      <td>10.009508</td>\n",
              "      <td>0.497305</td>\n",
              "      <td>55.146077</td>\n",
              "    </tr>\n",
              "    <tr>\n",
              "      <th>min</th>\n",
              "      <td>2022-01-01 00:00:00</td>\n",
              "      <td>50.000000</td>\n",
              "      <td>0.000000</td>\n",
              "      <td>20.000000</td>\n",
              "      <td>-9.990000</td>\n",
              "      <td>10.000000</td>\n",
              "      <td>0.000000</td>\n",
              "      <td>0.000000</td>\n",
              "      <td>5.030000</td>\n",
              "    </tr>\n",
              "    <tr>\n",
              "      <th>25%</th>\n",
              "      <td>2022-07-02 00:00:00</td>\n",
              "      <td>162.000000</td>\n",
              "      <td>49.000000</td>\n",
              "      <td>65.000000</td>\n",
              "      <td>53.670000</td>\n",
              "      <td>32.650000</td>\n",
              "      <td>5.000000</td>\n",
              "      <td>0.000000</td>\n",
              "      <td>32.680000</td>\n",
              "    </tr>\n",
              "    <tr>\n",
              "      <th>50%</th>\n",
              "      <td>2023-01-01 00:00:00</td>\n",
              "      <td>273.000000</td>\n",
              "      <td>107.000000</td>\n",
              "      <td>110.000000</td>\n",
              "      <td>113.015000</td>\n",
              "      <td>55.050000</td>\n",
              "      <td>10.000000</td>\n",
              "      <td>0.000000</td>\n",
              "      <td>55.010000</td>\n",
              "    </tr>\n",
              "    <tr>\n",
              "      <th>75%</th>\n",
              "      <td>2023-07-03 00:00:00</td>\n",
              "      <td>387.000000</td>\n",
              "      <td>203.000000</td>\n",
              "      <td>155.000000</td>\n",
              "      <td>208.052500</td>\n",
              "      <td>77.860000</td>\n",
              "      <td>15.000000</td>\n",
              "      <td>1.000000</td>\n",
              "      <td>77.820000</td>\n",
              "    </tr>\n",
              "    <tr>\n",
              "      <th>max</th>\n",
              "      <td>2024-01-01 00:00:00</td>\n",
              "      <td>500.000000</td>\n",
              "      <td>499.000000</td>\n",
              "      <td>200.000000</td>\n",
              "      <td>518.550000</td>\n",
              "      <td>100.000000</td>\n",
              "      <td>20.000000</td>\n",
              "      <td>1.000000</td>\n",
              "      <td>104.940000</td>\n",
              "    </tr>\n",
              "    <tr>\n",
              "      <th>std</th>\n",
              "      <td>NaN</td>\n",
              "      <td>129.949514</td>\n",
              "      <td>108.919406</td>\n",
              "      <td>52.277448</td>\n",
              "      <td>109.254076</td>\n",
              "      <td>26.021945</td>\n",
              "      <td>7.083746</td>\n",
              "      <td>0.499996</td>\n",
              "      <td>26.191408</td>\n",
              "    </tr>\n",
              "  </tbody>\n",
              "</table>\n",
              "</div>\n",
              "    <div class=\"colab-df-buttons\">\n",
              "\n",
              "  <div class=\"colab-df-container\">\n",
              "    <button class=\"colab-df-convert\" onclick=\"convertToInteractive('df-f55d5144-9e82-4a9f-b4d1-da49e5058892')\"\n",
              "            title=\"Convert this dataframe to an interactive table.\"\n",
              "            style=\"display:none;\">\n",
              "\n",
              "  <svg xmlns=\"http://www.w3.org/2000/svg\" height=\"24px\" viewBox=\"0 -960 960 960\">\n",
              "    <path d=\"M120-120v-720h720v720H120Zm60-500h600v-160H180v160Zm220 220h160v-160H400v160Zm0 220h160v-160H400v160ZM180-400h160v-160H180v160Zm440 0h160v-160H620v160ZM180-180h160v-160H180v160Zm440 0h160v-160H620v160Z\"/>\n",
              "  </svg>\n",
              "    </button>\n",
              "\n",
              "  <style>\n",
              "    .colab-df-container {\n",
              "      display:flex;\n",
              "      gap: 12px;\n",
              "    }\n",
              "\n",
              "    .colab-df-convert {\n",
              "      background-color: #E8F0FE;\n",
              "      border: none;\n",
              "      border-radius: 50%;\n",
              "      cursor: pointer;\n",
              "      display: none;\n",
              "      fill: #1967D2;\n",
              "      height: 32px;\n",
              "      padding: 0 0 0 0;\n",
              "      width: 32px;\n",
              "    }\n",
              "\n",
              "    .colab-df-convert:hover {\n",
              "      background-color: #E2EBFA;\n",
              "      box-shadow: 0px 1px 2px rgba(60, 64, 67, 0.3), 0px 1px 3px 1px rgba(60, 64, 67, 0.15);\n",
              "      fill: #174EA6;\n",
              "    }\n",
              "\n",
              "    .colab-df-buttons div {\n",
              "      margin-bottom: 4px;\n",
              "    }\n",
              "\n",
              "    [theme=dark] .colab-df-convert {\n",
              "      background-color: #3B4455;\n",
              "      fill: #D2E3FC;\n",
              "    }\n",
              "\n",
              "    [theme=dark] .colab-df-convert:hover {\n",
              "      background-color: #434B5C;\n",
              "      box-shadow: 0px 1px 3px 1px rgba(0, 0, 0, 0.15);\n",
              "      filter: drop-shadow(0px 1px 2px rgba(0, 0, 0, 0.3));\n",
              "      fill: #FFFFFF;\n",
              "    }\n",
              "  </style>\n",
              "\n",
              "    <script>\n",
              "      const buttonEl =\n",
              "        document.querySelector('#df-f55d5144-9e82-4a9f-b4d1-da49e5058892 button.colab-df-convert');\n",
              "      buttonEl.style.display =\n",
              "        google.colab.kernel.accessAllowed ? 'block' : 'none';\n",
              "\n",
              "      async function convertToInteractive(key) {\n",
              "        const element = document.querySelector('#df-f55d5144-9e82-4a9f-b4d1-da49e5058892');\n",
              "        const dataTable =\n",
              "          await google.colab.kernel.invokeFunction('convertToInteractive',\n",
              "                                                    [key], {});\n",
              "        if (!dataTable) return;\n",
              "\n",
              "        const docLinkHtml = 'Like what you see? Visit the ' +\n",
              "          '<a target=\"_blank\" href=https://colab.research.google.com/notebooks/data_table.ipynb>data table notebook</a>'\n",
              "          + ' to learn more about interactive tables.';\n",
              "        element.innerHTML = '';\n",
              "        dataTable['output_type'] = 'display_data';\n",
              "        await google.colab.output.renderOutput(dataTable, element);\n",
              "        const docLink = document.createElement('div');\n",
              "        docLink.innerHTML = docLinkHtml;\n",
              "        element.appendChild(docLink);\n",
              "      }\n",
              "    </script>\n",
              "  </div>\n",
              "\n",
              "\n",
              "    <div id=\"df-b9a9d80f-4405-47cd-abeb-8f93fac42adb\">\n",
              "      <button class=\"colab-df-quickchart\" onclick=\"quickchart('df-b9a9d80f-4405-47cd-abeb-8f93fac42adb')\"\n",
              "                title=\"Suggest charts\"\n",
              "                style=\"display:none;\">\n",
              "\n",
              "<svg xmlns=\"http://www.w3.org/2000/svg\" height=\"24px\"viewBox=\"0 0 24 24\"\n",
              "     width=\"24px\">\n",
              "    <g>\n",
              "        <path d=\"M19 3H5c-1.1 0-2 .9-2 2v14c0 1.1.9 2 2 2h14c1.1 0 2-.9 2-2V5c0-1.1-.9-2-2-2zM9 17H7v-7h2v7zm4 0h-2V7h2v10zm4 0h-2v-4h2v4z\"/>\n",
              "    </g>\n",
              "</svg>\n",
              "      </button>\n",
              "\n",
              "<style>\n",
              "  .colab-df-quickchart {\n",
              "      --bg-color: #E8F0FE;\n",
              "      --fill-color: #1967D2;\n",
              "      --hover-bg-color: #E2EBFA;\n",
              "      --hover-fill-color: #174EA6;\n",
              "      --disabled-fill-color: #AAA;\n",
              "      --disabled-bg-color: #DDD;\n",
              "  }\n",
              "\n",
              "  [theme=dark] .colab-df-quickchart {\n",
              "      --bg-color: #3B4455;\n",
              "      --fill-color: #D2E3FC;\n",
              "      --hover-bg-color: #434B5C;\n",
              "      --hover-fill-color: #FFFFFF;\n",
              "      --disabled-bg-color: #3B4455;\n",
              "      --disabled-fill-color: #666;\n",
              "  }\n",
              "\n",
              "  .colab-df-quickchart {\n",
              "    background-color: var(--bg-color);\n",
              "    border: none;\n",
              "    border-radius: 50%;\n",
              "    cursor: pointer;\n",
              "    display: none;\n",
              "    fill: var(--fill-color);\n",
              "    height: 32px;\n",
              "    padding: 0;\n",
              "    width: 32px;\n",
              "  }\n",
              "\n",
              "  .colab-df-quickchart:hover {\n",
              "    background-color: var(--hover-bg-color);\n",
              "    box-shadow: 0 1px 2px rgba(60, 64, 67, 0.3), 0 1px 3px 1px rgba(60, 64, 67, 0.15);\n",
              "    fill: var(--button-hover-fill-color);\n",
              "  }\n",
              "\n",
              "  .colab-df-quickchart-complete:disabled,\n",
              "  .colab-df-quickchart-complete:disabled:hover {\n",
              "    background-color: var(--disabled-bg-color);\n",
              "    fill: var(--disabled-fill-color);\n",
              "    box-shadow: none;\n",
              "  }\n",
              "\n",
              "  .colab-df-spinner {\n",
              "    border: 2px solid var(--fill-color);\n",
              "    border-color: transparent;\n",
              "    border-bottom-color: var(--fill-color);\n",
              "    animation:\n",
              "      spin 1s steps(1) infinite;\n",
              "  }\n",
              "\n",
              "  @keyframes spin {\n",
              "    0% {\n",
              "      border-color: transparent;\n",
              "      border-bottom-color: var(--fill-color);\n",
              "      border-left-color: var(--fill-color);\n",
              "    }\n",
              "    20% {\n",
              "      border-color: transparent;\n",
              "      border-left-color: var(--fill-color);\n",
              "      border-top-color: var(--fill-color);\n",
              "    }\n",
              "    30% {\n",
              "      border-color: transparent;\n",
              "      border-left-color: var(--fill-color);\n",
              "      border-top-color: var(--fill-color);\n",
              "      border-right-color: var(--fill-color);\n",
              "    }\n",
              "    40% {\n",
              "      border-color: transparent;\n",
              "      border-right-color: var(--fill-color);\n",
              "      border-top-color: var(--fill-color);\n",
              "    }\n",
              "    60% {\n",
              "      border-color: transparent;\n",
              "      border-right-color: var(--fill-color);\n",
              "    }\n",
              "    80% {\n",
              "      border-color: transparent;\n",
              "      border-right-color: var(--fill-color);\n",
              "      border-bottom-color: var(--fill-color);\n",
              "    }\n",
              "    90% {\n",
              "      border-color: transparent;\n",
              "      border-bottom-color: var(--fill-color);\n",
              "    }\n",
              "  }\n",
              "</style>\n",
              "\n",
              "      <script>\n",
              "        async function quickchart(key) {\n",
              "          const quickchartButtonEl =\n",
              "            document.querySelector('#' + key + ' button');\n",
              "          quickchartButtonEl.disabled = true;  // To prevent multiple clicks.\n",
              "          quickchartButtonEl.classList.add('colab-df-spinner');\n",
              "          try {\n",
              "            const charts = await google.colab.kernel.invokeFunction(\n",
              "                'suggestCharts', [key], {});\n",
              "          } catch (error) {\n",
              "            console.error('Error during call to suggestCharts:', error);\n",
              "          }\n",
              "          quickchartButtonEl.classList.remove('colab-df-spinner');\n",
              "          quickchartButtonEl.classList.add('colab-df-quickchart-complete');\n",
              "        }\n",
              "        (() => {\n",
              "          let quickchartButtonEl =\n",
              "            document.querySelector('#df-b9a9d80f-4405-47cd-abeb-8f93fac42adb button');\n",
              "          quickchartButtonEl.style.display =\n",
              "            google.colab.kernel.accessAllowed ? 'block' : 'none';\n",
              "        })();\n",
              "      </script>\n",
              "    </div>\n",
              "\n",
              "    </div>\n",
              "  </div>\n"
            ],
            "application/vnd.google.colaboratory.intrinsic+json": {
              "type": "dataframe",
              "summary": "{\n  \"name\": \"df\",\n  \"rows\": 8,\n  \"fields\": [\n    {\n      \"column\": \"Date\",\n      \"properties\": {\n        \"dtype\": \"date\",\n        \"min\": \"1970-01-01 00:00:00.000073100\",\n        \"max\": \"2024-01-01 00:00:00\",\n        \"num_unique_values\": 7,\n        \"samples\": [\n          \"73100\",\n          \"2022-12-31 23:59:59.999999744\",\n          \"2023-07-03 00:00:00\"\n        ],\n        \"semantic_type\": \"\",\n        \"description\": \"\"\n      }\n    },\n    {\n      \"column\": \"Inventory Level\",\n      \"properties\": {\n        \"dtype\": \"number\",\n        \"std\": 25755.430744900437,\n        \"min\": 50.0,\n        \"max\": 73100.0,\n        \"num_unique_values\": 8,\n        \"samples\": [\n          274.46987688098494,\n          387.0,\n          73100.0\n        ],\n        \"semantic_type\": \"\",\n        \"description\": \"\"\n      }\n    },\n    {\n      \"column\": \"Units Sold\",\n      \"properties\": {\n        \"dtype\": \"number\",\n        \"std\": 25789.468410689777,\n        \"min\": 0.0,\n        \"max\": 73100.0,\n        \"num_unique_values\": 8,\n        \"samples\": [\n          136.46487004103966,\n          203.0,\n          73100.0\n        ],\n        \"semantic_type\": \"\",\n        \"description\": \"\"\n      }\n    },\n    {\n      \"column\": \"Units Ordered\",\n      \"properties\": {\n        \"dtype\": \"number\",\n        \"std\": 25808.841130802437,\n        \"min\": 20.0,\n        \"max\": 73100.0,\n        \"num_unique_values\": 8,\n        \"samples\": [\n          110.00447332421341,\n          155.0,\n          73100.0\n        ],\n        \"semantic_type\": \"\",\n        \"description\": \"\"\n      }\n    },\n    {\n      \"column\": \"Demand Forecast\",\n      \"properties\": {\n        \"dtype\": \"number\",\n        \"std\": 25787.962823540587,\n        \"min\": -9.99,\n        \"max\": 73100.0,\n        \"num_unique_values\": 8,\n        \"samples\": [\n          141.49472010943916,\n          208.0525,\n          73100.0\n        ],\n        \"semantic_type\": \"\",\n        \"description\": \"\"\n      }\n    },\n    {\n      \"column\": \"Price\",\n      \"properties\": {\n        \"dtype\": \"number\",\n        \"std\": 25826.751954690735,\n        \"min\": 10.0,\n        \"max\": 73100.0,\n        \"num_unique_values\": 8,\n        \"samples\": [\n          55.13510820793434,\n          77.86,\n          73100.0\n        ],\n        \"semantic_type\": \"\",\n        \"description\": \"\"\n      }\n    },\n    {\n      \"column\": \"Discount\",\n      \"properties\": {\n        \"dtype\": \"number\",\n        \"std\": 25841.36484251915,\n        \"min\": 0.0,\n        \"max\": 73100.0,\n        \"num_unique_values\": 8,\n        \"samples\": [\n          10.009507523939808,\n          15.0,\n          73100.0\n        ],\n        \"semantic_type\": \"\",\n        \"description\": \"\"\n      }\n    },\n    {\n      \"column\": \"Holiday/Promotion\",\n      \"properties\": {\n        \"dtype\": \"number\",\n        \"std\": 25844.601469150628,\n        \"min\": 0.0,\n        \"max\": 73100.0,\n        \"num_unique_values\": 5,\n        \"samples\": [\n          0.49730506155950754,\n          0.4999961572122588,\n          0.0\n        ],\n        \"semantic_type\": \"\",\n        \"description\": \"\"\n      }\n    },\n    {\n      \"column\": \"Competitor Pricing\",\n      \"properties\": {\n        \"dtype\": \"number\",\n        \"std\": 25826.74945100682,\n        \"min\": 5.03,\n        \"max\": 73100.0,\n        \"num_unique_values\": 8,\n        \"samples\": [\n          55.14607742818057,\n          77.82,\n          73100.0\n        ],\n        \"semantic_type\": \"\",\n        \"description\": \"\"\n      }\n    }\n  ]\n}"
            }
          },
          "metadata": {},
          "execution_count": 9
        }
      ]
    },
    {
      "cell_type": "code",
      "source": [
        "df.isna().sum()"
      ],
      "metadata": {
        "colab": {
          "base_uri": "https://localhost:8080/",
          "height": 554
        },
        "id": "0loFoch3R2Zl",
        "outputId": "cbd2a3ab-3412-46f4-f274-794415fdae3d"
      },
      "execution_count": 10,
      "outputs": [
        {
          "output_type": "execute_result",
          "data": {
            "text/plain": [
              "Date                  0\n",
              "Store ID              0\n",
              "Product ID            0\n",
              "Category              0\n",
              "Region                0\n",
              "Inventory Level       0\n",
              "Units Sold            0\n",
              "Units Ordered         0\n",
              "Demand Forecast       0\n",
              "Price                 0\n",
              "Discount              0\n",
              "Weather Condition     0\n",
              "Holiday/Promotion     0\n",
              "Competitor Pricing    0\n",
              "Seasonality           0\n",
              "dtype: int64"
            ],
            "text/html": [
              "<div>\n",
              "<style scoped>\n",
              "    .dataframe tbody tr th:only-of-type {\n",
              "        vertical-align: middle;\n",
              "    }\n",
              "\n",
              "    .dataframe tbody tr th {\n",
              "        vertical-align: top;\n",
              "    }\n",
              "\n",
              "    .dataframe thead th {\n",
              "        text-align: right;\n",
              "    }\n",
              "</style>\n",
              "<table border=\"1\" class=\"dataframe\">\n",
              "  <thead>\n",
              "    <tr style=\"text-align: right;\">\n",
              "      <th></th>\n",
              "      <th>0</th>\n",
              "    </tr>\n",
              "  </thead>\n",
              "  <tbody>\n",
              "    <tr>\n",
              "      <th>Date</th>\n",
              "      <td>0</td>\n",
              "    </tr>\n",
              "    <tr>\n",
              "      <th>Store ID</th>\n",
              "      <td>0</td>\n",
              "    </tr>\n",
              "    <tr>\n",
              "      <th>Product ID</th>\n",
              "      <td>0</td>\n",
              "    </tr>\n",
              "    <tr>\n",
              "      <th>Category</th>\n",
              "      <td>0</td>\n",
              "    </tr>\n",
              "    <tr>\n",
              "      <th>Region</th>\n",
              "      <td>0</td>\n",
              "    </tr>\n",
              "    <tr>\n",
              "      <th>Inventory Level</th>\n",
              "      <td>0</td>\n",
              "    </tr>\n",
              "    <tr>\n",
              "      <th>Units Sold</th>\n",
              "      <td>0</td>\n",
              "    </tr>\n",
              "    <tr>\n",
              "      <th>Units Ordered</th>\n",
              "      <td>0</td>\n",
              "    </tr>\n",
              "    <tr>\n",
              "      <th>Demand Forecast</th>\n",
              "      <td>0</td>\n",
              "    </tr>\n",
              "    <tr>\n",
              "      <th>Price</th>\n",
              "      <td>0</td>\n",
              "    </tr>\n",
              "    <tr>\n",
              "      <th>Discount</th>\n",
              "      <td>0</td>\n",
              "    </tr>\n",
              "    <tr>\n",
              "      <th>Weather Condition</th>\n",
              "      <td>0</td>\n",
              "    </tr>\n",
              "    <tr>\n",
              "      <th>Holiday/Promotion</th>\n",
              "      <td>0</td>\n",
              "    </tr>\n",
              "    <tr>\n",
              "      <th>Competitor Pricing</th>\n",
              "      <td>0</td>\n",
              "    </tr>\n",
              "    <tr>\n",
              "      <th>Seasonality</th>\n",
              "      <td>0</td>\n",
              "    </tr>\n",
              "  </tbody>\n",
              "</table>\n",
              "</div><br><label><b>dtype:</b> int64</label>"
            ]
          },
          "metadata": {},
          "execution_count": 10
        }
      ]
    },
    {
      "cell_type": "code",
      "source": [
        "print(df.columns.tolist())"
      ],
      "metadata": {
        "colab": {
          "base_uri": "https://localhost:8080/"
        },
        "id": "cJ6MOZO6R8Z0",
        "outputId": "c1cf6228-dc2a-4367-a273-a8ca37555261"
      },
      "execution_count": 12,
      "outputs": [
        {
          "output_type": "stream",
          "name": "stdout",
          "text": [
            "['Date', 'Store ID', 'Product ID', 'Category', 'Region', 'Inventory Level', 'Units Sold', 'Units Ordered', 'Demand Forecast', 'Price', 'Discount', 'Weather Condition', 'Holiday/Promotion', 'Competitor Pricing', 'Seasonality']\n"
          ]
        }
      ]
    },
    {
      "cell_type": "markdown",
      "source": [
        "2.Load and clean data"
      ],
      "metadata": {
        "id": "QBHqzPXySaRA"
      }
    },
    {
      "cell_type": "code",
      "source": [
        "# Convert Date to datetime\n",
        "df['Date'] = pd.to_datetime(df['Date'], errors='coerce')\n",
        "df.dropna(subset=['Date'], inplace=True)"
      ],
      "metadata": {
        "id": "iRbBx2p-SS4T"
      },
      "execution_count": 13,
      "outputs": []
    },
    {
      "cell_type": "code",
      "source": [
        "sns.boxplot(df)"
      ],
      "metadata": {
        "colab": {
          "base_uri": "https://localhost:8080/",
          "height": 447
        },
        "id": "CZOU7tVUPb5E",
        "outputId": "59b68089-0337-4d16-deec-7df25acd6144"
      },
      "execution_count": null,
      "outputs": [
        {
          "output_type": "execute_result",
          "data": {
            "text/plain": [
              "<Axes: >"
            ]
          },
          "metadata": {},
          "execution_count": 3
        },
        {
          "output_type": "display_data",
          "data": {
            "text/plain": [
              "<Figure size 640x480 with 1 Axes>"
            ],
            "image/png": "[encoded data removed]"
          },
          "metadata": {}
        }
      ]
    },
    {
      "cell_type": "code",
      "source": [
        "\n",
        "# Remove outliers using IQR method\n",
        "numeric_df = df.select_dtypes(include=['float64', 'int64'])\n",
        "Q1 = numeric_df.quantile(0.25)\n",
        "Q3 = numeric_df.quantile(0.75)\n",
        "IQR = Q3 - Q1\n",
        "df = df[~((numeric_df < (Q1 - 1.5 * IQR)) | (numeric_df > (Q3 + 1.5 * IQR))).any(axis=1)]\n"
      ],
      "metadata": {
        "id": "bOYwOisCPcnw"
      },
      "execution_count": null,
      "outputs": []
    },
    {
      "cell_type": "markdown",
      "source": [
        "3.Exploratory Data Analysis (Graphs)"
      ],
      "metadata": {
        "id": "5fztGn6LPy1A"
      }
    },
    {
      "cell_type": "code",
      "source": [
        "df['Month'] = df['Date'].dt.to_period('M').astype(str)\n",
        "\n",
        "# Monthly Sales Trend\n",
        "monthly_sales = df.groupby('Month')['Units Sold'].sum().reset_index()\n",
        "sns.lineplot(data=monthly_sales, x='Month', y='Units Sold', marker='o')\n",
        "plt.title(\"Monthly Sales Trend\")\n",
        "plt.xticks(rotation=45)\n",
        "plt.tight_layout()\n",
        "plt.show()\n",
        "\n",
        "# Category Sales\n",
        "category_sales = df.groupby('Category')['Units Sold'].sum().sort_values(ascending=False)\n",
        "sns.barplot(x=category_sales.index, y=category_sales.values)\n",
        "plt.title(\"Sales by Category\")\n",
        "plt.xticks(rotation=45)\n",
        "plt.tight_layout()\n",
        "plt.show()\n",
        "\n",
        "# Store-wise Heatmap\n",
        "pivot = df.pivot_table(index='Store ID', columns='Month', values='Units Sold', aggfunc='mean')\n",
        "sns.heatmap(pivot, cmap='YlGnBu')\n",
        "plt.title(\"Units Sold by Store & Month\")\n",
        "plt.tight_layout()\n",
        "plt.show()\n"
      ],
      "metadata": {
        "colab": {
          "base_uri": "https://localhost:8080/",
          "height": 1000
        },
        "id": "8fkrwDPcPgeP",
        "outputId": "3fbe16ab-4d5d-4724-967d-3f8d80d360ee"
      },
      "execution_count": null,
      "outputs": [
        {
          "output_type": "stream",
          "name": "stderr",
          "text": [
            "/tmp/ipython-input-5-4090785008.py:1: SettingWithCopyWarning: \n",
            "A value is trying to be set on a copy of a slice from a DataFrame.\n",
            "Try using .loc[row_indexer,col_indexer] = value instead\n",
            "\n",
            "See the caveats in the documentation: https://pandas.pydata.org/pandas-docs/stable/user_guide/indexing.html#returning-a-view-versus-a-copy\n",
            "  df['Month'] = df['Date'].dt.to_period('M').astype(str)\n"
          ]
        },
        {
          "output_type": "display_data",
          "data": {
            "text/plain": [
              "<Figure size 640x480 with 1 Axes>"
            ],
            "image/png": "[encoded data removed]"
          },
          "metadata": {}
        },
        {
          "output_type": "display_data",
          "data": {
            "text/plain": [
              "<Figure size 640x480 with 1 Axes>"
            ],
            "image/png": "[encoded data removed]"
          },
          "metadata": {}
        },
        {
          "output_type": "display_data",
          "data": {
            "text/plain": [
              "<Figure size 640x480 with 2 Axes>"
            ],
            "image/png": "[encoded data removed]"
          },
          "metadata": {}
        }
      ]
    },
    {
      "cell_type": "markdown",
      "source": [
        "4.Feature Engineering python"
      ],
      "metadata": {
        "id": "yxIBlHFLP9K7"
      }
    },
    {
      "cell_type": "code",
      "source": [
        "df['Month'] = df['Date'].dt.month\n",
        "df['Year'] = df['Date'].dt.year\n",
        "df['Holiday_Season'] = df['Month'].apply(lambda x: 1 if x in [11, 12] else 0)\n",
        "\n",
        "df.sort_values(by=['Store ID', 'Product ID', 'Date'], inplace=True)\n",
        "df['Prev_Units_Sold'] = df.groupby(['Store ID', 'Product ID'])['Units Sold'].shift(1)\n",
        "df['Prev_Units_Sold'] = df['Prev_Units_Sold'].fillna(df['Units Sold'].mean())\n"
      ],
      "metadata": {
        "id": "ZmdIcp1KP-Mk"
      },
      "execution_count": null,
      "outputs": []
    },
    {
      "cell_type": "markdown",
      "source": [
        "5.Aggregate Monthly Data"
      ],
      "metadata": {
        "id": "WdBc5yLNQG-V"
      }
    },
    {
      "cell_type": "code",
      "source": [
        "monthly_df = df.groupby(['Year', 'Month', 'Store ID', 'Product ID']).agg({\n",
        "    'Units Sold': 'sum',\n",
        "    'Inventory Level': 'mean',\n",
        "    'Price': 'mean',\n",
        "    'Discount': 'mean',\n",
        "    'Seasonality': 'max',\n",
        "    'Holiday_Season': 'max',\n",
        "    'Prev_Units_Sold': 'mean'\n",
        "}).reset_index()\n"
      ],
      "metadata": {
        "id": "sKcFExpYQCRR"
      },
      "execution_count": null,
      "outputs": []
    },
    {
      "cell_type": "markdown",
      "source": [
        "6.Encode Categorical Variables"
      ],
      "metadata": {
        "id": "ZMz2l3cnQQKy"
      }
    },
    {
      "cell_type": "code",
      "source": [
        "le_store = LabelEncoder()\n",
        "le_product = LabelEncoder()\n",
        "\n",
        "monthly_df['Store_enc'] = le_store.fit_transform(monthly_df['Store ID'])\n",
        "monthly_df['Product_enc'] = le_product.fit_transform(monthly_df['Product ID'])\n"
      ],
      "metadata": {
        "id": "VMaQEs71QTp8"
      },
      "execution_count": null,
      "outputs": []
    },
    {
      "cell_type": "markdown",
      "source": [
        "7.Modeling: Random Forest, XGBoost, Deep Learning"
      ],
      "metadata": {
        "id": "t_7BOfShQYPP"
      }
    },
    {
      "cell_type": "code",
      "source": [
        "X_rf = monthly_df[['Year', 'Month', 'Store_enc', 'Product_enc', 'Inventory Level', 'Price', 'Discount']]\n",
        "X_xgb_dnn = monthly_df[['Year', 'Month', 'Store_enc', 'Product_enc', 'Inventory Level', 'Price', 'Discount', 'Holiday_Season', 'Prev_Units_Sold']]\n",
        "y = monthly_df['Units Sold']\n",
        "\n",
        "# Train-Test Split\n",
        "X1_train, X1_test, y1_train, y1_test = train_test_split(X_rf, y, test_size=0.2, random_state=42)\n",
        "X2_train, X2_test, y2_train, y2_test = train_test_split(X_xgb_dnn, y, test_size=0.2, random_state=42)\n"
      ],
      "metadata": {
        "id": "07FJWboxQUdH"
      },
      "execution_count": null,
      "outputs": []
    },
    {
      "cell_type": "markdown",
      "source": [
        "a. Random Forest"
      ],
      "metadata": {
        "id": "eN0eUyneQgar"
      }
    },
    {
      "cell_type": "code",
      "source": [
        "rf = RandomForestRegressor(n_estimators=100, random_state=0)\n",
        "rf.fit(X1_train, y1_train)\n",
        "\n",
        "rf_train_pred = rf.predict(X1_train)\n",
        "rf_test_pred = rf.predict(X1_test)\n",
        "\n",
        "rf_r2_train = r2_score(y1_train, rf_train_pred)\n",
        "rf_r2_test = r2_score(y1_test, rf_test_pred)\n",
        "\n",
        "print(\"\\n===  RANDOM FOREST ===\")\n",
        "print(f\"Training R² Score: {rf_r2_train:.4f}\")\n",
        "print(f\"Test R² Score    : {rf_r2_test:.4f}\")\n",
        "print(f\"MAE              : {mean_absolute_error(y1_test, rf_test_pred):.2f}\")\n",
        "print(f\"RMSE             : {np.sqrt(mean_squared_error(y1_test, rf_test_pred)):.2f}\")\n"
      ],
      "metadata": {
        "colab": {
          "base_uri": "https://localhost:8080/"
        },
        "id": "1IpuKWwmQcis",
        "outputId": "e48619a2-c966-4dfd-f42f-b4e282c48dd7"
      },
      "execution_count": null,
      "outputs": [
        {
          "output_type": "stream",
          "name": "stdout",
          "text": [
            "\n",
            "===  RANDOM FOREST ===\n",
            "Training R² Score: 0.9623\n",
            "Test R² Score    : 0.7181\n",
            "MAE              : 381.41\n",
            "RMSE             : 486.60\n"
          ]
        }
      ]
    },
    {
      "cell_type": "markdown",
      "source": [
        "b. XGBoost (with GridSearch)"
      ],
      "metadata": {
        "id": "qjZB5PtbQpuB"
      }
    },
    {
      "cell_type": "code",
      "source": [
        "xgb_model = xgb.XGBRegressor(objective='reg:squarederror', random_state=42)\n",
        "param_grid = {\n",
        "    'n_estimators': [50, 100],\n",
        "    'max_depth': [3, 5],\n",
        "    'learning_rate': [0.01, 0.05],\n",
        "    'subsample': [0.8, 1.0]\n",
        "}\n",
        "\n",
        "gs = GridSearchCV(xgb_model, param_grid, cv=3, scoring='r2', n_jobs=-1)\n",
        "gs.fit(X2_train, y2_train)\n",
        "best_xgb = gs.best_estimator_\n",
        "\n",
        "xgb_train_pred = best_xgb.predict(X2_train)\n",
        "xgb_test_pred = best_xgb.predict(X2_test)\n",
        "\n",
        "xgb_r2_train = r2_score(y2_train, xgb_train_pred)\n",
        "xgb_r2_test = r2_score(y2_test, xgb_test_pred)\n",
        "\n",
        "print(\"\\n===  XGBOOST (Tuned) ===\")\n",
        "print(f\"Best Hyperparameters: {gs.best_params_}\")\n",
        "print(f\"Training R² Score   : {xgb_r2_train:.4f}\")\n",
        "print(f\"Test R² Score       : {xgb_r2_test:.4f}\")\n",
        "print(f\"MAE                 : {mean_absolute_error(y2_test, xgb_test_pred):.2f}\")\n",
        "print(f\"RMSE                : {np.sqrt(mean_squared_error(y2_test, xgb_test_pred)):.2f}\")\n"
      ],
      "metadata": {
        "colab": {
          "base_uri": "https://localhost:8080/"
        },
        "id": "nzLm_ekdQkIs",
        "outputId": "98c482b2-5b67-4217-8ba0-7c88b894fa97"
      },
      "execution_count": null,
      "outputs": [
        {
          "output_type": "stream",
          "name": "stdout",
          "text": [
            "\n",
            "===  XGBOOST (Tuned) ===\n",
            "Best Hyperparameters: {'learning_rate': 0.05, 'max_depth': 5, 'n_estimators': 100, 'subsample': 0.8}\n",
            "Training R² Score   : 0.9768\n",
            "Test R² Score       : 0.9619\n",
            "MAE                 : 139.48\n",
            "RMSE                : 178.86\n"
          ]
        }
      ]
    },
    {
      "cell_type": "markdown",
      "source": [
        "c. Deep Neural Network"
      ],
      "metadata": {
        "id": "PiecEumWQ2oR"
      }
    },
    {
      "cell_type": "code",
      "source": [
        "dnn = Sequential([\n",
        "    Dense(64, input_shape=(X2_train.shape[1],), activation='relu'),\n",
        "    Dense(32, activation='relu'),\n",
        "    Dense(1)\n",
        "])\n",
        "dnn.compile(optimizer='adam', loss='mse')\n",
        "early_stop = EarlyStopping(monitor='val_loss', patience=10, restore_best_weights=True)\n",
        "dnn.fit(X2_train, y2_train, validation_split=0.1, epochs=100, batch_size=32, callbacks=[early_stop], verbose=0)\n",
        "\n",
        "dnn_train_pred = dnn.predict(X2_train).flatten()\n",
        "dnn_test_pred = dnn.predict(X2_test).flatten()\n",
        "\n",
        "dnn_r2_train = r2_score(y2_train, dnn_train_pred)\n",
        "dnn_r2_test = r2_score(y2_test, dnn_test_pred)\n",
        "\n",
        "print(\"\\n=== DEEP LEARNING (DNN) ===\")\n",
        "print(f\"Training R² Score: {dnn_r2_train:.4f}\")\n",
        "print(f\"Test R² Score    : {dnn_r2_test:.4f}\")\n",
        "print(f\"MAE              : {mean_absolute_error(y2_test, dnn_test_pred):.2f}\")\n",
        "print(f\"RMSE             : {np.sqrt(mean_squared_error(y2_test, dnn_test_pred)):.2f}\")\n"
      ],
      "metadata": {
        "colab": {
          "base_uri": "https://localhost:8080/"
        },
        "id": "3rf0GzAeQtSt",
        "outputId": "383c609a-bf1b-496b-f902-d3a647ff95d6"
      },
      "execution_count": null,
      "outputs": [
        {
          "output_type": "stream",
          "name": "stderr",
          "text": [
            "/usr/local/lib/python3.11/dist-packages/keras/src/layers/core/dense.py:87: UserWarning: Do not pass an `input_shape`/`input_dim` argument to a layer. When using Sequential models, prefer using an `Input(shape)` object as the first layer in the model instead.\n",
            "  super().__init__(activity_regularizer=activity_regularizer, **kwargs)\n"
          ]
        },
        {
          "output_type": "stream",
          "name": "stdout",
          "text": [
            "\u001b[1m63/63\u001b[0m \u001b[32m━━━━━━━━━━━━━━━━━━━━\u001b[0m\u001b[37m\u001b[0m \u001b[1m1s\u001b[0m 7ms/step\n",
            "\u001b[1m16/16\u001b[0m \u001b[32m━━━━━━━━━━━━━━━━━━━━\u001b[0m\u001b[37m\u001b[0m \u001b[1m0s\u001b[0m 21ms/step\n",
            "\n",
            "=== DEEP LEARNING (DNN) ===\n",
            "Training R² Score: 0.6374\n",
            "Test R² Score    : 0.6378\n",
            "MAE              : 285.53\n",
            "RMSE             : 551.56\n"
          ]
        }
      ]
    },
    {
      "cell_type": "markdown",
      "source": [
        "DNN tuned"
      ],
      "metadata": {
        "id": "OsLqD_mQRXlW"
      }
    },
    {
      "cell_type": "code",
      "source": [
        "# Define the build function\n",
        "def build_model(hidden1=64, hidden2=32, activation='relu', optimizer='adam'):\n",
        "    model = Sequential()\n",
        "    model.add(Dense(hidden1, input_shape=(X2_train.shape[1],), activation=activation))\n",
        "    model.add(Dense(hidden2, activation=activation))\n",
        "    model.add(Dense(1))\n",
        "    model.compile(optimizer=optimizer, loss='mse')\n",
        "    return model\n",
        "\n",
        "# Wrap model using KerasRegressor\n",
        "dnn_grid_model = KerasRegressor(build_fn=build_model, verbose=0)\n",
        "\n",
        "# Define hyperparameter grid\n",
        "param_grid_dnn = {\n",
        "    'model__hidden1': [64, 128],\n",
        "    'model__hidden2': [32, 64],\n",
        "    'model__activation': ['relu', 'tanh'],\n",
        "    'model__optimizer': ['adam', 'rmsprop'],\n",
        "    'batch_size': [32],\n",
        "    'epochs': [50]\n",
        "}\n",
        "\n",
        "# Run GridSearch\n",
        "grid_dnn = GridSearchCV(estimator=dnn_grid_model,\n",
        "                        param_grid=param_grid_dnn,\n",
        "                        scoring='r2',\n",
        "                        cv=3,\n",
        "                        verbose=1,\n",
        "                        n_jobs=-1)\n",
        "\n",
        "grid_dnn.fit(X2_train, y2_train)\n",
        "\n",
        "# Best estimator\n",
        "best_dnn_tuned = grid_dnn.best_estimator_\n",
        "\n",
        "# Predict & Evaluate\n",
        "dnn_tuned_train_pred = best_dnn_tuned.predict(X2_train)\n",
        "dnn_tuned_test_pred = best_dnn_tuned.predict(X2_test)\n",
        "\n",
        "dnn_tuned_r2_train = r2_score(y2_train, dnn_tuned_train_pred)\n",
        "dnn_tuned_r2_test = r2_score(y2_test, dnn_tuned_test_pred)\n",
        "\n",
        "print(\"\\n=== DNN (TUNED) ===\")\n",
        "print(f\"Best Parameters     : {grid_dnn.best_params_}\")\n",
        "print(f\"Training R² Score   : {dnn_tuned_r2_train:.4f}\")\n",
        "print(f\"Test R² Score       : {dnn_tuned_r2_test:.4f}\")\n",
        "print(f\"MAE                 : {mean_absolute_error(y2_test, dnn_tuned_test_pred):.2f}\")\n",
        "print(f\"RMSE                : {np.sqrt(mean_squared_error(y2_test, dnn_tuned_test_pred)):.2f}\")"
      ],
      "metadata": {
        "colab": {
          "base_uri": "https://localhost:8080/"
        },
        "id": "ylD9ks5qRZMO",
        "outputId": "058543e3-6bcd-42a1-cdb8-68679542bfa9"
      },
      "execution_count": null,
      "outputs": [
        {
          "output_type": "stream",
          "name": "stdout",
          "text": [
            "Fitting 3 folds for each of 16 candidates, totalling 48 fits\n"
          ]
        },
        {
          "output_type": "stream",
          "name": "stderr",
          "text": [
            "/usr/local/lib/python3.11/dist-packages/joblib/externals/loky/process_executor.py:782: UserWarning: A worker stopped while some jobs were given to the executor. This can be caused by a too short worker timeout or by a memory leak.\n",
            "  warnings.warn(\n",
            "/usr/local/lib/python3.11/dist-packages/scikeras/wrappers.py:699: UserWarning: The number of unique classes is greater than 50% of the number of samples. `y` could represent a regression problem, not a classification problem.\n",
            "  return type_of_target(y)\n",
            "/usr/local/lib/python3.11/dist-packages/scikeras/wrappers.py:925: UserWarning: ``build_fn`` will be renamed to ``model`` in a future release, at which point use of ``build_fn`` will raise an Error instead.\n",
            "  X, y = self._initialize(X, y)\n",
            "/usr/local/lib/python3.11/dist-packages/keras/src/layers/core/dense.py:87: UserWarning: Do not pass an `input_shape`/`input_dim` argument to a layer. When using Sequential models, prefer using an `Input(shape)` object as the first layer in the model instead.\n",
            "  super().__init__(activity_regularizer=activity_regularizer, **kwargs)\n"
          ]
        },
        {
          "output_type": "stream",
          "name": "stdout",
          "text": [
            "\n",
            "=== DNN (TUNED) ===\n",
            "Best Parameters     : {'batch_size': 32, 'epochs': 50, 'model__activation': 'relu', 'model__hidden1': 64, 'model__hidden2': 64, 'model__optimizer': 'rmsprop'}\n",
            "Training R² Score   : 0.6409\n",
            "Test R² Score       : 0.5922\n",
            "MAE                 : 300.03\n",
            "RMSE                : 585.26\n"
          ]
        }
      ]
    },
    {
      "cell_type": "markdown",
      "source": [
        "8. Model Comparison"
      ],
      "metadata": {
        "id": "dWah70OISBaJ"
      }
    },
    {
      "cell_type": "code",
      "source": [
        "r2_scores = {\n",
        "    'Random Forest': rf_r2_test,\n",
        "    'XGBoost': xgb_r2_test,\n",
        "    'DNN (Default)': dnn_r2_test,\n",
        "    'DNN (Tuned)': dnn_tuned_r2_test\n",
        "}\n"
      ],
      "metadata": {
        "id": "2PYGWH-sSChO"
      },
      "execution_count": null,
      "outputs": []
    },
    {
      "cell_type": "code",
      "source": [
        "best_model_name = max(r2_scores, key=r2_scores.get)\n",
        "\n",
        "if best_model_name == 'XGBoost':\n",
        "    final_model = best_xgb\n",
        "    final_features = X_xgb_dnn.columns.tolist()\n",
        "elif best_model_name == 'DNN (Default)':\n",
        "    final_model = dnn\n",
        "    final_features = X_xgb_dnn.columns.tolist()\n",
        "elif best_model_name == 'DNN (Tuned)':\n",
        "    final_model = best_dnn_tuned\n",
        "    final_features = X_xgb_dnn.columns.tolist()\n",
        "else:\n",
        "    final_model = rf\n",
        "    final_features = X_rf.columns.tolist()\n"
      ],
      "metadata": {
        "id": "geGpSOO1V_8N"
      },
      "execution_count": null,
      "outputs": []
    },
    {
      "cell_type": "code",
      "source": [
        "print(\"\\n===  MODEL COMPARISON SUMMARY ===\")\n",
        "print(f\" Best Model: {best_model_name}\")\n",
        "print(f\" R² Scores =>\")\n",
        "print(f\"   • Random Forest : {rf_r2_test:.4f}\")\n",
        "print(f\"   • XGBoost       : {xgb_r2_test:.4f}\")\n",
        "print(f\"   • DNN (Default) : {dnn_r2_test:.4f}\")\n",
        "print(f\"   • DNN (Tuned)   : {dnn_tuned_r2_test:.4f}\")\n"
      ],
      "metadata": {
        "colab": {
          "base_uri": "https://localhost:8080/"
        },
        "id": "prEySNURWEUr",
        "outputId": "0e608437-cd55-45d6-8fc4-5593c296d2b2"
      },
      "execution_count": null,
      "outputs": [
        {
          "output_type": "stream",
          "name": "stdout",
          "text": [
            "\n",
            "===  MODEL COMPARISON SUMMARY ===\n",
            " Best Model: XGBoost\n",
            " R² Scores =>\n",
            "   • Random Forest : 0.7181\n",
            "   • XGBoost       : 0.9619\n",
            "   • DNN (Default) : 0.6378\n",
            "   • DNN (Tuned)   : 0.5922\n"
          ]
        }
      ]
    },
    {
      "cell_type": "markdown",
      "source": [
        "9.User Prediction Input"
      ],
      "metadata": {
        "id": "CYgzS_J0WTFN"
      }
    },
    {
      "cell_type": "code",
      "source": [
        "# === USER INPUTS ===\n",
        "user_year = int(input(\"Enter Year (e.g., 2026): \"))\n",
        "user_month = int(input(\"Enter Month (1-12): \"))\n",
        "user_store = input(\"Enter Store ID (e.g., S001): \")\n",
        "user_product = input(\"Enter Product ID (e.g., P0001): \")\n",
        "\n",
        "try:\n",
        "    store_enc = le_store.transform([user_store])[0]\n",
        "    product_enc = le_product.transform([user_product])[0]\n",
        "except ValueError:\n",
        "    raise ValueError(\" Store or Product not found in training data\")\n",
        "\n",
        "subset = df[(df['Store ID'] == user_store) & (df['Product ID'] == user_product)]\n",
        "if subset.empty:\n",
        "    raise ValueError(\"No past data available for this Store/Product combination\")\n",
        "\n",
        "input_data = {\n",
        "    'Year': user_year,\n",
        "    'Month': user_month,\n",
        "    'Store_enc': store_enc,\n",
        "    'Product_enc': product_enc,\n",
        "    'Inventory Level': subset['Inventory Level'].mean(),\n",
        "    'Price': subset['Price'].mean(),\n",
        "    'Discount': subset['Discount'].mean()\n",
        "}\n",
        "\n",
        "if 'Holiday_Season' in final_features:\n",
        "    input_data['Holiday_Season'] = 1 if user_month in [11, 12] else 0\n",
        "if 'Prev_Units_Sold' in final_features:\n",
        "    input_data['Prev_Units_Sold'] = subset['Units Sold'].iloc[-1] if not subset.empty else y.mean()\n",
        "\n",
        "input_df = pd.DataFrame([input_data])\n",
        "predicted_units = final_model.predict(input_df[final_features].values)[0] if best_model_name == 'Deep Learning' else final_model.predict(input_df[final_features])[0]\n",
        "\n",
        "print(f\"\\n Predicted Units for {user_product} at {user_store} in {user_month}-{user_year}: {predicted_units:.2f}\")\n"
      ],
      "metadata": {
        "colab": {
          "base_uri": "https://localhost:8080/"
        },
        "id": "vAvLUMGvWSrK",
        "outputId": "17133459-e1f2-41fa-93da-88948b9c4613"
      },
      "execution_count": null,
      "outputs": [
        {
          "output_type": "stream",
          "name": "stdout",
          "text": [
            "Enter Year (e.g., 2026): 2025\n",
            "Enter Month (1-12): 2\n",
            "Enter Store ID (e.g., S001): S001\n",
            "Enter Product ID (e.g., P0001): P0001\n",
            "\n",
            " Predicted Units for P0001 at S001 in 2-2025: 187.52\n"
          ]
        }
      ]
    },
    {
      "cell_type": "markdown",
      "source": [
        "10.Output Inventory Suggestion"
      ],
      "metadata": {
        "id": "fSDdKaEjWkTp"
      }
    },
    {
      "cell_type": "code",
      "source": [
        "avg_units = y.mean()\n",
        "if predicted_units > avg_units:\n",
        "    print(\" Suggestion: Stock More\")\n",
        "elif predicted_units < 0.9 * avg_units:\n",
        "    print(\"Suggestion: Stock Less\")\n",
        "else:\n",
        "    print(\" Suggestion: Maintain Stock Level\")\n"
      ],
      "metadata": {
        "colab": {
          "base_uri": "https://localhost:8080/"
        },
        "id": "xsXb-gkUWmi_",
        "outputId": "6171fbd8-4164-49de-ed74-750048db2530"
      },
      "execution_count": null,
      "outputs": [
        {
          "output_type": "stream",
          "name": "stdout",
          "text": [
            "Suggestion: Stock Less\n"
          ]
        }
      ]
    },
    {
      "cell_type": "markdown",
      "source": [
        "11.downloading model"
      ],
      "metadata": {
        "id": "uqICA9tDWtGw"
      }
    },
    {
      "cell_type": "code",
      "source": [
        "import joblib\n",
        "import os\n",
        "\n",
        "# Create export folder\n",
        "os.makedirs(\"exported_model\", exist_ok=True)\n",
        "\n",
        "# Save the best XGBoost model\n",
        "joblib.dump(best_xgb, \"exported_model/best_model.pkl\")\n",
        "\n",
        "# Save encoders and feature list\n",
        "joblib.dump(le_store, \"exported_model/store_encoder.pkl\")\n",
        "joblib.dump(le_product, \"exported_model/product_encoder.pkl\")\n",
        "joblib.dump(final_features, \"exported_model/final_features.pkl\")\n",
        "\n",
        "print(\"✅ XGBoost model and encoders saved in 'exported_model/'\")\n"
      ],
      "metadata": {
        "colab": {
          "base_uri": "https://localhost:8080/"
        },
        "id": "Ezclt0dRWz2m",
        "outputId": "b028564a-79a5-43d6-80e6-8960c827a087"
      },
      "execution_count": null,
      "outputs": [
        {
          "output_type": "stream",
          "name": "stdout",
          "text": [
            "✅ XGBoost model and encoders saved in 'exported_model/'\n"
          ]
        }
      ]
    }
  ]
}